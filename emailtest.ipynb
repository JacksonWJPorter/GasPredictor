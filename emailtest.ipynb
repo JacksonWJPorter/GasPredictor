{
 "cells": [
  {
   "cell_type": "code",
   "execution_count": 7,
   "metadata": {},
   "outputs": [],
   "source": [
    "import os\n",
    "from email.message import EmailMessage\n",
    "import ssl\n",
    "import smtplib"
   ]
  },
  {
   "cell_type": "code",
   "execution_count": 2,
   "metadata": {},
   "outputs": [],
   "source": [
    "email_sender='pumpalertusa@gmail.com'\n",
    "email_password='fmvw dfkf rwrh kdax'\n",
    "email_receiver='pumpalertusa@gmail.com'"
   ]
  },
  {
   "cell_type": "code",
   "execution_count": 3,
   "metadata": {},
   "outputs": [],
   "source": [
    "subject='test email'\n",
    "body='this is a test email'\n"
   ]
  },
  {
   "cell_type": "code",
   "execution_count": 4,
   "metadata": {},
   "outputs": [],
   "source": [
    "em=EmailMessage()\n",
    "em['From']=email_sender\n",
    "em['To']=email_receiver\n",
    "em['Subject']=subject\n",
    "em.set_content(body)"
   ]
  },
  {
   "cell_type": "code",
   "execution_count": 6,
   "metadata": {},
   "outputs": [],
   "source": [
    "context=ssl.create_default_context()"
   ]
  },
  {
   "cell_type": "code",
   "execution_count": 8,
   "metadata": {},
   "outputs": [],
   "source": [
    "with smtplib.SMTP_SSL('smtp.gmail.com',465,context=context) as smtp:\n",
    "  smtp.login(email_sender,email_password)\n",
    "  smtp.sendmail(email_sender,email_receiver,em.as_string())"
   ]
  }
 ],
 "metadata": {
  "kernelspec": {
   "display_name": "Python 3",
   "language": "python",
   "name": "python3"
  },
  "language_info": {
   "codemirror_mode": {
    "name": "ipython",
    "version": 3
   },
   "file_extension": ".py",
   "mimetype": "text/x-python",
   "name": "python",
   "nbconvert_exporter": "python",
   "pygments_lexer": "ipython3",
   "version": "3.10.4"
  }
 },
 "nbformat": 4,
 "nbformat_minor": 2
}
